{
 "cells": [
  {
   "cell_type": "code",
   "execution_count": null,
   "id": "e415f0ff",
   "metadata": {},
   "outputs": [],
   "source": [
    "import numpy as np\n",
    "import pandas as pd\n",
    "\n",
    "from sklearn.linear_model import LinearRegression\n",
    "from LinearRegressionGD import LinearRegressorGD\n",
    "from MLPRegressor import MLPRegressor\n",
    "\n",
    "from sklearn.model_selection import train_test_split\n",
    "from sklearn.metrics import r2_score\n",
    "from sklearn.preprocessing import MinMaxScaler"
   ]
  },
  {
   "cell_type": "code",
   "execution_count": 2,
   "id": "35693ae6",
   "metadata": {},
   "outputs": [
    {
     "data": {
      "text/html": [
       "<div>\n",
       "<style scoped>\n",
       "    .dataframe tbody tr th:only-of-type {\n",
       "        vertical-align: middle;\n",
       "    }\n",
       "\n",
       "    .dataframe tbody tr th {\n",
       "        vertical-align: top;\n",
       "    }\n",
       "\n",
       "    .dataframe thead th {\n",
       "        text-align: right;\n",
       "    }\n",
       "</style>\n",
       "<table border=\"1\" class=\"dataframe\">\n",
       "  <thead>\n",
       "    <tr style=\"text-align: right;\">\n",
       "      <th></th>\n",
       "      <th>carat</th>\n",
       "      <th>cut</th>\n",
       "      <th>color</th>\n",
       "      <th>clarity</th>\n",
       "      <th>depth</th>\n",
       "      <th>table</th>\n",
       "      <th>price</th>\n",
       "      <th>x</th>\n",
       "      <th>y</th>\n",
       "      <th>z</th>\n",
       "    </tr>\n",
       "  </thead>\n",
       "  <tbody>\n",
       "    <tr>\n",
       "      <th>0</th>\n",
       "      <td>0.23</td>\n",
       "      <td>Ideal</td>\n",
       "      <td>E</td>\n",
       "      <td>SI2</td>\n",
       "      <td>61.5</td>\n",
       "      <td>55.0</td>\n",
       "      <td>326</td>\n",
       "      <td>3.95</td>\n",
       "      <td>3.98</td>\n",
       "      <td>2.43</td>\n",
       "    </tr>\n",
       "    <tr>\n",
       "      <th>1</th>\n",
       "      <td>0.21</td>\n",
       "      <td>Premium</td>\n",
       "      <td>E</td>\n",
       "      <td>SI1</td>\n",
       "      <td>59.8</td>\n",
       "      <td>61.0</td>\n",
       "      <td>326</td>\n",
       "      <td>3.89</td>\n",
       "      <td>3.84</td>\n",
       "      <td>2.31</td>\n",
       "    </tr>\n",
       "    <tr>\n",
       "      <th>2</th>\n",
       "      <td>0.23</td>\n",
       "      <td>Good</td>\n",
       "      <td>E</td>\n",
       "      <td>VS1</td>\n",
       "      <td>56.9</td>\n",
       "      <td>65.0</td>\n",
       "      <td>327</td>\n",
       "      <td>4.05</td>\n",
       "      <td>4.07</td>\n",
       "      <td>2.31</td>\n",
       "    </tr>\n",
       "    <tr>\n",
       "      <th>3</th>\n",
       "      <td>0.29</td>\n",
       "      <td>Premium</td>\n",
       "      <td>I</td>\n",
       "      <td>VS2</td>\n",
       "      <td>62.4</td>\n",
       "      <td>58.0</td>\n",
       "      <td>334</td>\n",
       "      <td>4.20</td>\n",
       "      <td>4.23</td>\n",
       "      <td>2.63</td>\n",
       "    </tr>\n",
       "    <tr>\n",
       "      <th>4</th>\n",
       "      <td>0.31</td>\n",
       "      <td>Good</td>\n",
       "      <td>J</td>\n",
       "      <td>SI2</td>\n",
       "      <td>63.3</td>\n",
       "      <td>58.0</td>\n",
       "      <td>335</td>\n",
       "      <td>4.34</td>\n",
       "      <td>4.35</td>\n",
       "      <td>2.75</td>\n",
       "    </tr>\n",
       "  </tbody>\n",
       "</table>\n",
       "</div>"
      ],
      "text/plain": [
       "   carat      cut color clarity  depth  table  price     x     y     z\n",
       "0   0.23    Ideal     E     SI2   61.5   55.0    326  3.95  3.98  2.43\n",
       "1   0.21  Premium     E     SI1   59.8   61.0    326  3.89  3.84  2.31\n",
       "2   0.23     Good     E     VS1   56.9   65.0    327  4.05  4.07  2.31\n",
       "3   0.29  Premium     I     VS2   62.4   58.0    334  4.20  4.23  2.63\n",
       "4   0.31     Good     J     SI2   63.3   58.0    335  4.34  4.35  2.75"
      ]
     },
     "execution_count": 2,
     "metadata": {},
     "output_type": "execute_result"
    }
   ],
   "source": [
    "diamonds_df = pd.read_csv('diamonds.csv').drop('Unnamed: 0', axis=1)\n",
    "diamonds_df.head()"
   ]
  },
  {
   "cell_type": "code",
   "execution_count": 3,
   "id": "c4e4fb8a",
   "metadata": {},
   "outputs": [],
   "source": [
    "features = ['carat', 'cut', 'color', 'clarity', 'depth', 'table', 'x', 'y', 'z']\n",
    "target = ['price']\n",
    "\n",
    "cut_transform = {'Fair': 0, 'Good': 1, 'Very Good': 2, 'Premium': 3, 'Ideal': 4}\n",
    "clarity_transform = {'I1': 0, 'SI2': 1, 'SI1': 2, 'VS2': 3, 'VS1': 4, 'VVS2': 5, 'VVS1': 6, 'IF': 7}\n",
    "color_transorm = {'D': 0, 'E': 1, 'F': 2, 'G': 3, 'H': 4, 'I': 5, 'J': 6}\n",
    "\n",
    "diamonds_df['cut'] = diamonds_df['cut'].apply(lambda x: cut_transform.get(x))\n",
    "diamonds_df['color'] = diamonds_df['color'].apply(lambda x: color_transorm.get(x))\n",
    "diamonds_df['clarity'] = diamonds_df['clarity'].apply(lambda x: clarity_transform.get(x))\n",
    "\n",
    "X = diamonds_df[features].copy().values\n",
    "y = diamonds_df[target].values\n",
    "\n",
    "X_train, X_test, y_train, y_test = train_test_split(X, y, random_state=47, test_size=0.3)\n",
    "\n",
    "scaler = MinMaxScaler()\n",
    "X_train = scaler.fit_transform(X_train)\n",
    "X_test = scaler.transform(X_test)"
   ]
  },
  {
   "cell_type": "markdown",
   "id": "a479ced8",
   "metadata": {},
   "source": [
    "<b>Сравним метрики написанной линейной регрессии с аналогом из sklearn</b>"
   ]
  },
  {
   "cell_type": "code",
   "execution_count": 4,
   "id": "1b577dc8",
   "metadata": {},
   "outputs": [
    {
     "name": "stdout",
     "output_type": "stream",
     "text": [
      "Sklearn R2 score: 0.8977468673125746\n",
      "My R2 score: 0.8477095992276711\n"
     ]
    }
   ],
   "source": [
    "my_linear_model = LinearRegressorGD(learning_rate=0.25).fit(X_train, y_train)\n",
    "sklearn_linear_model = LinearRegression().fit(X_train, y_train)\n",
    "\n",
    "my_y_pred = my_linear_model.predict(X_test)\n",
    "sklearn_y_pred = sklearn_linear_model.predict(X_test)\n",
    "\n",
    "my_r2_score = r2_score(my_y_pred, y_test)\n",
    "sklearn_r2_score = r2_score(sklearn_y_pred, y_test)\n",
    "\n",
    "print(f\"Sklearn R2 score: {sklearn_r2_score}\")\n",
    "print(f\"My R2 score: {my_r2_score}\")"
   ]
  },
  {
   "cell_type": "markdown",
   "id": "2cdd0bf0",
   "metadata": {},
   "source": [
    "<b>Теперь обучим MLPRegressor</b>"
   ]
  },
  {
   "cell_type": "code",
   "execution_count": null,
   "id": "00243bdc",
   "metadata": {},
   "outputs": [
    {
     "name": "stdout",
     "output_type": "stream",
     "text": [
      "Epoch 0, loss: 31098404.58275074\n",
      "Epoch 100, loss: 14952621.029348036\n",
      "Epoch 200, loss: 12228113.542238735\n",
      "Epoch 300, loss: 10262919.287506819\n",
      "Epoch 400, loss: 8701792.468147153\n",
      "Epoch 500, loss: 7504569.729486556\n",
      "Epoch 600, loss: 6589751.999320841\n",
      "Epoch 700, loss: 5889228.492780946\n",
      "Epoch 800, loss: 5309066.663640527\n",
      "Epoch 900, loss: 4838822.428011296\n",
      "Epoch 1000, loss: 4416352.920133644\n",
      "Epoch 1100, loss: 4068436.8021082296\n",
      "Epoch 1200, loss: 3791086.666616011\n",
      "Epoch 1300, loss: 3538825.4429052556\n",
      "Epoch 1400, loss: 3364778.228285344\n",
      "Epoch 1500, loss: 3257736.9323890237\n",
      "Epoch 1600, loss: 3053746.806735704\n",
      "Epoch 1700, loss: 2956519.090160222\n",
      "Epoch 1800, loss: 2947186.5786858248\n",
      "Epoch 1900, loss: 2853036.0330827725\n"
     ]
    }
   ],
   "source": [
    "model = MLPRegressor(hidden_layer_sizes=(40,), learning_rate=1.3, n_iter=2000).fit(X_train, y_train)"
   ]
  },
  {
   "cell_type": "code",
   "execution_count": 13,
   "id": "0db99704",
   "metadata": {},
   "outputs": [
    {
     "name": "stdout",
     "output_type": "stream",
     "text": [
      "My R2 score: 0.7817169740408562\n"
     ]
    }
   ],
   "source": [
    "my_y_pred = model.predict(X_test)\n",
    "\n",
    "my_r2_score = r2_score(my_y_pred, y_test)\n",
    "print(f\"My R2 score: {my_r2_score}\")"
   ]
  }
 ],
 "metadata": {
  "kernelspec": {
   "display_name": "Python 3",
   "language": "python",
   "name": "python3"
  },
  "language_info": {
   "codemirror_mode": {
    "name": "ipython",
    "version": 3
   },
   "file_extension": ".py",
   "mimetype": "text/x-python",
   "name": "python",
   "nbconvert_exporter": "python",
   "pygments_lexer": "ipython3",
   "version": "3.10.12"
  }
 },
 "nbformat": 4,
 "nbformat_minor": 5
}
