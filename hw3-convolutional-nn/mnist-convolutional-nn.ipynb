{
 "cells": [
  {
   "cell_type": "code",
   "execution_count": 3,
   "id": "26bf6bd0",
   "metadata": {},
   "outputs": [],
   "source": [
    "import torch\n",
    "from torch.nn.functional import log_softmax\n",
    "from torch.nn import NLLLoss\n",
    "import torchvision\n",
    "import os\n",
    "from torch import nn\n",
    "from tqdm import tqdm\n",
    "import numpy as np\n",
    "import matplotlib.pyplot as plt\n",
    "%matplotlib inline"
   ]
  },
  {
   "cell_type": "code",
   "execution_count": 4,
   "id": "23c9be9b",
   "metadata": {},
   "outputs": [],
   "source": [
    "transform = torchvision.transforms.Compose(\n",
    "    [\n",
    "        torchvision.transforms.ToTensor(),\n",
    "        torchvision.transforms.Normalize((0.1307,), (0.3081,))\n",
    "    ]\n",
    ")"
   ]
  },
  {
   "cell_type": "code",
   "execution_count": 5,
   "id": "9d79b691",
   "metadata": {},
   "outputs": [],
   "source": [
    "def seed_everything(seed):\n",
    "    os.environ['PYTHONHASHSEED'] = str(seed)\n",
    "    np.random.seed(seed)\n",
    "    torch.manual_seed(seed)\n",
    "    torch.backends.cudnn.deterministic = True\n",
    "    torch.backends.cudnn.benchmark = False"
   ]
  },
  {
   "cell_type": "code",
   "execution_count": 6,
   "id": "aa2131f1",
   "metadata": {},
   "outputs": [],
   "source": [
    "seed_everything(42)\n",
    "\n",
    "mnist_train = torchvision.datasets.MNIST(\n",
    "    './mnist/',\n",
    "    train=True,\n",
    "    download=True,\n",
    "    transform=transform\n",
    ")\n",
    "\n",
    "mnist_val = torchvision.datasets.MNIST(\n",
    "    './mnist/',\n",
    "    train=False,\n",
    "    download=True,\n",
    "    transform=transform\n",
    ")\n",
    "\n",
    "train_dataloader = torch.utils.data.DataLoader(mnist_train, batch_size=64, shuffle=True)\n",
    "val_dataloader = torch.utils.data.DataLoader(mnist_val, batch_size=64, shuffle=True)\n"
   ]
  },
  {
   "cell_type": "code",
   "execution_count": 10,
   "id": "c428c39a",
   "metadata": {},
   "outputs": [
    {
     "data": {
      "text/plain": [
       "<matplotlib.image.AxesImage at 0x7ce7e98c11e0>"
      ]
     },
     "execution_count": 10,
     "metadata": {},
     "output_type": "execute_result"
    },
    {
     "data": {
      "image/png": "[encoded data removed]",
      "text/plain": [
       "<Figure size 640x480 with 1 Axes>"
      ]
     },
     "metadata": {},
     "output_type": "display_data"
    }
   ],
   "source": [
    "plt.imshow(mnist_train[0][0].squeeze(0).numpy().reshape([28, 28]))"
   ]
  },
  {
   "cell_type": "code",
   "execution_count": 7,
   "id": "13650ec1",
   "metadata": {},
   "outputs": [],
   "source": [
    "n_epochs = 3\n",
    "losses = []\n",
    "accuracies = []\n",
    "\n",
    "def train(model, optimizer, n_epochs=n_epochs):\n",
    "    for epoch in range(n_epochs):\n",
    "\n",
    "        for x_train, y_train in tqdm(train_dataloader):\n",
    "            y_pred = model(x_train)\n",
    "            log_probs = log_softmax(y_pred, dim=1)\n",
    "            loss = NLLLoss()(log_probs, y_train)\n",
    "            loss.backward()\n",
    "            optimizer.step()\n",
    "            optimizer.zero_grad()\n",
    "\n",
    "        if epoch % 2 == 0:\n",
    "            val_loss = []\n",
    "            val_accuracy = []\n",
    "            with torch.no_grad():\n",
    "                for x_val, y_val in tqdm(val_dataloader):\n",
    "                    y_pred = model(x_val)\n",
    "                    loss = NLLLoss()(log_softmax(y_pred), y_val)\n",
    "\n",
    "                    val_loss.append(loss.numpy())\n",
    "                    val_accuracy.extend((torch.argmax(y_pred, dim=-1) == y_val).numpy().tolist())\n",
    "\n",
    "            print(f'Epoch: {epoch}, loss: {np.mean(val_loss)}, accuracy: {np.mean(val_accuracy)}')\n",
    "            losses.append(np.mean(val_loss))\n",
    "            accuracies.append(np.mean(val_accuracy))"
   ]
  },
  {
   "cell_type": "markdown",
   "id": "c1353679",
   "metadata": {},
   "source": [
    "<span>Исходная модель:</span>"
   ]
  },
  {
   "cell_type": "code",
   "execution_count": 10,
   "id": "c6f2ed14",
   "metadata": {},
   "outputs": [
    {
     "name": "stdout",
     "output_type": "stream",
     "text": [
      "Количество параметров: 47758\n"
     ]
    }
   ],
   "source": [
    "model = nn.Sequential(\n",
    "    nn.Conv2d(in_channels=1, out_channels=10, kernel_size=5),\n",
    "    nn.ReLU(),\n",
    "    nn.MaxPool2d(kernel_size=4),\n",
    "    nn.Flatten(),\n",
    "    nn.Linear(6*6*10, 128),\n",
    "    nn.ReLU(),\n",
    "    nn.Linear(128, 10)\n",
    ")\n",
    "\n",
    "print(f\"Количество параметров: {sum(p.numel() for p in model.parameters() if p.requires_grad)}\")\n",
    "\n",
    "optimizer = torch.optim.Adam(model.parameters(), lr=0.001)"
   ]
  },
  {
   "cell_type": "code",
   "execution_count": 120,
   "id": "0a43e9ec",
   "metadata": {},
   "outputs": [
    {
     "name": "stderr",
     "output_type": "stream",
     "text": [
      "100%|██████████| 938/938 [00:19<00:00, 48.68it/s]\n",
      "  0%|          | 0/157 [00:00<?, ?it/s]/tmp/ipykernel_145891/2937752172.py:22: UserWarning: Implicit dimension choice for log_softmax has been deprecated. Change the call to include dim=X as an argument.\n",
      "  loss = NLLLoss()(log_softmax(y_pred), y_val)\n",
      "100%|██████████| 157/157 [00:02<00:00, 57.54it/s]\n"
     ]
    },
    {
     "name": "stdout",
     "output_type": "stream",
     "text": [
      "Epoch: 0, loss: 0.04056539759039879, accuracy: 0.9867\n"
     ]
    },
    {
     "name": "stderr",
     "output_type": "stream",
     "text": [
      "100%|██████████| 938/938 [00:21<00:00, 43.74it/s]\n",
      "100%|██████████| 938/938 [00:20<00:00, 45.26it/s]\n",
      "100%|██████████| 157/157 [00:02<00:00, 55.67it/s]"
     ]
    },
    {
     "name": "stdout",
     "output_type": "stream",
     "text": [
      "Epoch: 2, loss: 0.03809841349720955, accuracy: 0.9863\n"
     ]
    },
    {
     "name": "stderr",
     "output_type": "stream",
     "text": [
      "\n"
     ]
    }
   ],
   "source": [
    "train(model, optimizer)"
   ]
  },
  {
   "cell_type": "markdown",
   "id": "3ed63760",
   "metadata": {},
   "source": [
    "<span>Получили метрику 0.9863</span>"
   ]
  },
  {
   "cell_type": "markdown",
   "id": "59eb4251",
   "metadata": {},
   "source": [
    "<span>Обучим модель с тремя свёрточными слоями и большими ядрами, но небольшим количеством параметров:</span>"
   ]
  },
  {
   "cell_type": "code",
   "execution_count": 16,
   "id": "ef1c9e27",
   "metadata": {},
   "outputs": [
    {
     "name": "stdout",
     "output_type": "stream",
     "text": [
      "Количество параметров: 98378\n"
     ]
    }
   ],
   "source": [
    "model = nn.Sequential(\n",
    "    nn.Conv2d(in_channels=1, out_channels=16, kernel_size=7, padding=3),\n",
    "    nn.ReLU(),\n",
    "    nn.MaxPool2d(kernel_size=2),\n",
    "    nn.Conv2d(in_channels=16, out_channels=32, kernel_size=5, padding=2),\n",
    "    nn.ReLU(),\n",
    "    nn.MaxPool2d(kernel_size=2),\n",
    "    nn.Conv2d(in_channels=32, out_channels=64, kernel_size=3, padding=1),\n",
    "    nn.ReLU(),\n",
    "    nn.AdaptiveAvgPool2d((4, 4)),\n",
    "    nn.Flatten(),\n",
    "    nn.Linear(64*4*4, 64),\n",
    "    nn.ReLU(),\n",
    "    nn.Linear(64, 10)\n",
    ")\n",
    "\n",
    "optimizer = torch.optim.Adam(model.parameters(), lr=0.001)\n",
    "\n",
    "print(f\"Количество параметров: {sum(p.numel() for p in model.parameters() if p.requires_grad)}\")"
   ]
  },
  {
   "cell_type": "code",
   "execution_count": 17,
   "id": "f5a1efc3",
   "metadata": {},
   "outputs": [
    {
     "name": "stderr",
     "output_type": "stream",
     "text": [
      "100%|██████████| 938/938 [00:35<00:00, 26.27it/s]\n",
      "  0%|          | 0/157 [00:00<?, ?it/s]/tmp/ipykernel_7608/2937752172.py:22: UserWarning: Implicit dimension choice for log_softmax has been deprecated. Change the call to include dim=X as an argument.\n",
      "  loss = NLLLoss()(log_softmax(y_pred), y_val)\n",
      "100%|██████████| 157/157 [00:03<00:00, 44.72it/s]\n"
     ]
    },
    {
     "name": "stdout",
     "output_type": "stream",
     "text": [
      "Epoch: 0, loss: 0.06291038542985916, accuracy: 0.9802\n"
     ]
    },
    {
     "name": "stderr",
     "output_type": "stream",
     "text": [
      "100%|██████████| 938/938 [00:34<00:00, 26.93it/s]\n",
      "100%|██████████| 938/938 [00:35<00:00, 26.56it/s]\n",
      "100%|██████████| 157/157 [00:03<00:00, 44.31it/s]\n"
     ]
    },
    {
     "name": "stdout",
     "output_type": "stream",
     "text": [
      "Epoch: 2, loss: 0.029907342046499252, accuracy: 0.9913\n"
     ]
    },
    {
     "name": "stderr",
     "output_type": "stream",
     "text": [
      "100%|██████████| 938/938 [00:35<00:00, 26.63it/s]\n",
      "100%|██████████| 938/938 [00:34<00:00, 27.01it/s]\n",
      "100%|██████████| 157/157 [00:03<00:00, 44.63it/s]\n"
     ]
    },
    {
     "name": "stdout",
     "output_type": "stream",
     "text": [
      "Epoch: 4, loss: 0.026233894750475883, accuracy: 0.9909\n"
     ]
    },
    {
     "name": "stderr",
     "output_type": "stream",
     "text": [
      "100%|██████████| 938/938 [00:35<00:00, 26.60it/s]\n",
      "100%|██████████| 938/938 [00:34<00:00, 27.01it/s]\n",
      "100%|██████████| 157/157 [00:03<00:00, 45.15it/s]\n"
     ]
    },
    {
     "name": "stdout",
     "output_type": "stream",
     "text": [
      "Epoch: 6, loss: 0.023739617317914963, accuracy: 0.9916\n"
     ]
    },
    {
     "name": "stderr",
     "output_type": "stream",
     "text": [
      "100%|██████████| 938/938 [00:34<00:00, 26.87it/s]\n",
      "100%|██████████| 938/938 [00:34<00:00, 27.26it/s]\n",
      "100%|██████████| 157/157 [00:03<00:00, 45.71it/s]\n"
     ]
    },
    {
     "name": "stdout",
     "output_type": "stream",
     "text": [
      "Epoch: 8, loss: 0.024824077263474464, accuracy: 0.9923\n"
     ]
    },
    {
     "name": "stderr",
     "output_type": "stream",
     "text": [
      "100%|██████████| 938/938 [00:34<00:00, 26.84it/s]\n"
     ]
    }
   ],
   "source": [
    "train(model, optimizer, n_epochs=10)"
   ]
  },
  {
   "cell_type": "markdown",
   "id": "d132bbfd",
   "metadata": {},
   "source": [
    "Получили метрику 0.9923"
   ]
  },
  {
   "cell_type": "markdown",
   "id": "e228ebe3",
   "metadata": {},
   "source": [
    "Посмотрим, как менялись loss и accuracy:"
   ]
  },
  {
   "cell_type": "code",
   "execution_count": 25,
   "id": "68cc2e07",
   "metadata": {},
   "outputs": [
    {
     "data": {
      "image/png": "[encoded data removed]",
      "text/plain": [
       "<Figure size 1200x500 with 1 Axes>"
      ]
     },
     "metadata": {},
     "output_type": "display_data"
    }
   ],
   "source": [
    "plt.figure(figsize=(12, 5))\n",
    "plt.subplot(1, 2, 1)\n",
    "plt.plot(losses, label='Loss')\n",
    "plt.plot(accuracies, label='Accuracy')\n",
    "plt.xlabel('Epochs', fontsize=16)\n",
    "plt.legend(loc=0, fontsize=16)\n",
    "plt.grid('on')\n",
    "plt.show()"
   ]
  },
  {
   "cell_type": "markdown",
   "id": "63f78657",
   "metadata": {},
   "source": [
    "<span>Обучим модель с малыми ядрами, но большим количеством параметров:</span>"
   ]
  },
  {
   "cell_type": "code",
   "execution_count": 19,
   "id": "f0b61c8d",
   "metadata": {},
   "outputs": [
    {
     "name": "stdout",
     "output_type": "stream",
     "text": [
      "Количество параметров: 205802\n"
     ]
    }
   ],
   "source": [
    "model = nn.Sequential(\n",
    "    nn.Conv2d(in_channels=1, out_channels=32, kernel_size=3, padding=1),\n",
    "    nn.ReLU(),\n",
    "    nn.Conv2d(in_channels=32, out_channels=32, kernel_size=3, padding=1),\n",
    "    nn.ReLU(),\n",
    "    nn.MaxPool2d(kernel_size=2),\n",
    "    \n",
    "    nn.Conv2d(in_channels=32, out_channels=64, kernel_size=3, padding=1),\n",
    "    nn.ReLU(),\n",
    "    nn.Conv2d(in_channels=64, out_channels=64, kernel_size=3, padding=1),\n",
    "    nn.ReLU(),\n",
    "    nn.MaxPool2d(kernel_size=2),\n",
    "    \n",
    "    nn.Conv2d(in_channels=64, out_channels=128, kernel_size=3, padding=1),\n",
    "    nn.ReLU(),\n",
    "    nn.AdaptiveAvgPool2d((2, 2)),\n",
    "    nn.Flatten(),\n",
    "    nn.Linear(128*2*2, 128),\n",
    "    nn.ReLU(),\n",
    "    nn.Linear(128, 10)\n",
    ")\n",
    "\n",
    "optimizer = torch.optim.Adam(model.parameters(), lr=0.001)\n",
    "\n",
    "print(f\"Количество параметров: {sum(p.numel() for p in model.parameters() if p.requires_grad)}\")"
   ]
  },
  {
   "cell_type": "code",
   "execution_count": 20,
   "id": "0de21b7f",
   "metadata": {},
   "outputs": [
    {
     "name": "stderr",
     "output_type": "stream",
     "text": [
      "100%|██████████| 938/938 [01:27<00:00, 10.68it/s]\n",
      "  0%|          | 0/157 [00:00<?, ?it/s]/tmp/ipykernel_7608/2937752172.py:22: UserWarning: Implicit dimension choice for log_softmax has been deprecated. Change the call to include dim=X as an argument.\n",
      "  loss = NLLLoss()(log_softmax(y_pred), y_val)\n",
      "100%|██████████| 157/157 [00:07<00:00, 22.04it/s]\n"
     ]
    },
    {
     "name": "stdout",
     "output_type": "stream",
     "text": [
      "Epoch: 0, loss: 0.08327561616897583, accuracy: 0.9754\n"
     ]
    },
    {
     "name": "stderr",
     "output_type": "stream",
     "text": [
      "100%|██████████| 938/938 [01:25<00:00, 11.02it/s]\n",
      "100%|██████████| 938/938 [01:27<00:00, 10.68it/s]\n",
      "100%|██████████| 157/157 [00:06<00:00, 24.60it/s]\n"
     ]
    },
    {
     "name": "stdout",
     "output_type": "stream",
     "text": [
      "Epoch: 2, loss: 0.04739666357636452, accuracy: 0.986\n"
     ]
    },
    {
     "name": "stderr",
     "output_type": "stream",
     "text": [
      "100%|██████████| 938/938 [01:27<00:00, 10.74it/s]\n",
      "100%|██████████| 938/938 [01:27<00:00, 10.70it/s]\n",
      "100%|██████████| 157/157 [00:07<00:00, 22.37it/s]"
     ]
    },
    {
     "name": "stdout",
     "output_type": "stream",
     "text": [
      "Epoch: 4, loss: 0.02433834783732891, accuracy: 0.9929\n"
     ]
    },
    {
     "name": "stderr",
     "output_type": "stream",
     "text": [
      "\n"
     ]
    }
   ],
   "source": [
    "train(model, optimizer, n_epochs=5)"
   ]
  },
  {
   "cell_type": "markdown",
   "id": "e9765543",
   "metadata": {},
   "source": [
    "Получили метрику 0.9929"
   ]
  },
  {
   "cell_type": "markdown",
   "id": "260f3b08",
   "metadata": {},
   "source": [
    "<h4><b>Итоги</b></h4><p>Итак, лучший результат дала глубокая модель с малыми ядрами.</p>"
   ]
  }
 ],
 "metadata": {
  "kernelspec": {
   "display_name": "Python 3",
   "language": "python",
   "name": "python3"
  },
  "language_info": {
   "codemirror_mode": {
    "name": "ipython",
    "version": 3
   },
   "file_extension": ".py",
   "mimetype": "text/x-python",
   "name": "python",
   "nbconvert_exporter": "python",
   "pygments_lexer": "ipython3",
   "version": "3.10.12"
  }
 },
 "nbformat": 4,
 "nbformat_minor": 5
}
